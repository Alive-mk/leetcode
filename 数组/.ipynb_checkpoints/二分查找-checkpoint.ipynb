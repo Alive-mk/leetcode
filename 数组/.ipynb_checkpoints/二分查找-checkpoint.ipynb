{
 "cells": [
  {
   "cell_type": "markdown",
   "id": "2166609d-e346-43d8-a9fc-4fb9a326acb8",
   "metadata": {},
   "source": [
    "python中定义类的模板"
   ]
  },
  {
   "cell_type": "raw",
   "id": "246e67a2-f051-4b54-a66e-0bdad79a2635",
   "metadata": {},
   "source": [
    "class ClassName:\n",
    "    def __init__(self, param1, param2):\n",
    "        #构造器，用于初始化实例变量\n",
    "    def method1(self, param1):\n",
    "        #方法一\n",
    "    def methdo2(self, param2):\n",
    "        #方法二"
   ]
  },
  {
   "cell_type": "markdown",
   "id": "0924d010-c369-4976-8dc2-85212955e48f",
   "metadata": {},
   "source": [
    "闭区间写法"
   ]
  },
  {
   "cell_type": "code",
   "execution_count": 25,
   "id": "dbeabd2f-a643-4f90-a997-a3028ad1727e",
   "metadata": {},
   "outputs": [],
   "source": [
    "from typing import List #在类型注解中导入List"
   ]
  },
  {
   "cell_type": "raw",
   "id": "13f48508-61fd-4518-8fce-1d1e739d0359",
   "metadata": {},
   "source": [
    "类型注解在 Python 中是一种语法，用于显式指定变量、函数参数和返回值的类型。这一特性自 Python 3.5 起引入，旨在提高代码的可读性和可维护性，同时支持静态类型检查工具，如 Mypy，进行代码分析。\r\n",
    "\r\n",
    "类型注解并不影响 Python 程序的运行时行为，因为 Python 本身是一种动态类型语言，类型检查主要在代码编写阶段进行。通过在函数定义中指定参数和返回值的类型，类型注解帮助开发者和阅读者更快地理解函数应如何使用。例如，函数定义 def add(a: int, b: int) -> int 明确表明，add 函数接受两个整数作为参数，并返回一个整数。此外，类型注解也使得集成开发环境（IDE）和代码编辑器能提供更准确的代码补全、提示和错误检测。\r\n",
    "\r\n",
    "类型注解的使用涉及到 typing 模块，它为不同类型的数据结构提供支持，如 List, Dict, Tuple, 和 Optional。在 Python 3.9+ 中，这些类型也可以直接使用内置的集合类（如 list, dict）进行注解。类型注解对于增加代码在团队环境中的可维护性特别有用，尤其是在大型项目或复杂系统中，它们为变量和函数的预期使用提供了清晰的指导。"
   ]
  },
  {
   "cell_type": "code",
   "execution_count": 40,
   "id": "d943af78-047f-4d46-9306-ec935cf3bad7",
   "metadata": {},
   "outputs": [],
   "source": [
    "class Solution_zuobiyoubi:\n",
    "    def search(self, nums: List[int], target: int) -> int:\n",
    "        left, right = 0, len(nums)-1\n",
    "        while(left <= right):\n",
    "            middle = left + (right - left) // 2\n",
    "            if(nums[middle] > target):\n",
    "                right = middle - 1\n",
    "            elif(nums[middle] < target):\n",
    "                left = middle + 1\n",
    "            else:\n",
    "                return middle\n",
    "        return -1"
   ]
  },
  {
   "cell_type": "code",
   "execution_count": 41,
   "id": "f6c8be74-d010-4c5b-b185-982b52251647",
   "metadata": {},
   "outputs": [],
   "source": [
    "class Solution_zuobiyoukai:\n",
    "    def search(self, nums: List[int], target: int) -> int:\n",
    "        left, right = 0, len(nums)\n",
    "        while(left < right):\n",
    "            middle = left + (right - left) // #防止越界\n",
    "            if(nums[middle] < target):\n",
    "                left = middle + 1\n",
    "            elif(nums[middle] > target):\n",
    "                right = middle\n",
    "            else:\n",
    "                return middle\n",
    "        return -1"
   ]
  },
  {
   "attachments": {
    "cb218f6b-c569-4ce6-aa2b-c3f1cd548f81.png": {
     "image/png": "[encoded data removed]"
    }
   },
   "cell_type": "markdown",
   "id": "7f0df596-ead5-470e-9fe8-691a42273b86",
   "metadata": {},
   "source": [
    "![image.png](attachment:cb218f6b-c569-4ce6-aa2b-c3f1cd548f81.png)"
   ]
  },
  {
   "cell_type": "raw",
   "id": "0d27d544-575b-4b10-8e53-3a7690570eae",
   "metadata": {},
   "source": [
    "时间复杂度：O(log n)\n",
    "二分查找的时间复杂度是 O(log n)，这是因为它每执行一次操作就会将搜索区间减少一半。这里的 n 表示数据集的大小。因为二分查找是将区间分为两个部分并选择其中一个继续查找，所以每次操作实际上是解决了原问题的一半。所以，操作的次数是对数级别的，具体来说是以 2 为底 n 的对数。\n",
    "\n",
    "空间复杂度：O(1)\n",
    "二分查找的空间复杂度是 O(1)，也就是说它是常数级别的。在执行二分查找时，你只需要存储几个变量（通常是 low, high, 和 mid 索引），而这个存储需求不会随着输入数据量的增加而增加。因此，无论数据集的大小如何，所需的额外空间都保持不变。这使得二分查找在空间上非常高效。"
   ]
  },
  {
   "cell_type": "code",
   "execution_count": 42,
   "id": "0f14d8e4-415c-4216-901e-6ec772cde2fa",
   "metadata": {},
   "outputs": [],
   "source": [
    "Solution_1 = Solution_zuobiyoubi()\n",
    "Solution_2 = Solution_zuobiyoukai()"
   ]
  },
  {
   "cell_type": "code",
   "execution_count": 43,
   "id": "8002be95-469c-499a-be1b-7b116eaaa527",
   "metadata": {},
   "outputs": [],
   "source": [
    "nums = [1, 2, 3, 4, 5, 6, 7, 8, 9]"
   ]
  },
  {
   "cell_type": "code",
   "execution_count": 44,
   "id": "adc06016-a2e6-4ffa-852e-acfdc3549af1",
   "metadata": {},
   "outputs": [],
   "source": [
    "target = 8"
   ]
  },
  {
   "cell_type": "code",
   "execution_count": 45,
   "id": "f43aec93-0b77-4e34-856b-58ddd6e170b2",
   "metadata": {},
   "outputs": [],
   "source": [
    "result_1 = Solution_1.search(nums, target)\n",
    "result_2 = Solution_2.search(nums, target)"
   ]
  },
  {
   "cell_type": "code",
   "execution_count": 46,
   "id": "b9a6cbcb-2134-4a78-9087-7ad915e55b37",
   "metadata": {},
   "outputs": [
    {
     "name": "stdout",
     "output_type": "stream",
     "text": [
      "下标为7\n"
     ]
    }
   ],
   "source": [
    "if result_1 != -1:\n",
    "    print(f'下标为{result_1}')\n",
    "else:\n",
    "    print(f'未找到')"
   ]
  },
  {
   "cell_type": "code",
   "execution_count": 47,
   "id": "332801dc-adf0-4e47-996b-592356f6934d",
   "metadata": {},
   "outputs": [
    {
     "name": "stdout",
     "output_type": "stream",
     "text": [
      "下标为7\n"
     ]
    }
   ],
   "source": [
    "if result_2 != -1:\n",
    "    print(f'下标为{result_2}')\n",
    "else:\n",
    "    print(f'未找到')"
   ]
  }
 ],
 "metadata": {
  "kernelspec": {
   "display_name": "Python 3 (ipykernel)",
   "language": "python",
   "name": "python3"
  },
  "language_info": {
   "codemirror_mode": {
    "name": "ipython",
    "version": 3
   },
   "file_extension": ".py",
   "mimetype": "text/x-python",
   "name": "python",
   "nbconvert_exporter": "python",
   "pygments_lexer": "ipython3",
   "version": "3.9.5"
  }
 },
 "nbformat": 4,
 "nbformat_minor": 5
}
